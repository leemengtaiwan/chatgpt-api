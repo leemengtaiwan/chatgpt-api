{
 "cells": [
  {
   "cell_type": "code",
   "execution_count": null,
   "id": "de6ebe87-b492-47cf-8941-57c03e57ae7e",
   "metadata": {},
   "outputs": [
    {
     "name": "stdout",
     "output_type": "stream",
     "text": [
      "Requirement already satisfied: flask in /home/ec2-user/anaconda3/lib/python3.7/site-packages (from -r ../requirements.txt (line 1)) (1.1.2)\n",
      "\u001b[33mWARNING: Keyring is skipped due to an exception: 'EntryPoints' object has no attribute 'get'\u001b[0m\n",
      "Collecting playwright\n",
      "  Downloading playwright-1.28.0-py3-none-manylinux1_x86_64.whl (32.8 MB)\n",
      "\u001b[K     |████████████████████████████████| 32.8 MB 16.9 MB/s eta 0:00:01\n",
      "\u001b[?25hRequirement already satisfied: Jinja2>=2.10.1 in /home/ec2-user/anaconda3/lib/python3.7/site-packages (from flask->-r ../requirements.txt (line 1)) (3.1.2)\n",
      "Requirement already satisfied: click>=5.1 in /home/ec2-user/anaconda3/lib/python3.7/site-packages (from flask->-r ../requirements.txt (line 1)) (7.1.2)\n",
      "Requirement already satisfied: Werkzeug>=0.15 in /home/ec2-user/anaconda3/lib/python3.7/site-packages (from flask->-r ../requirements.txt (line 1)) (1.0.1)\n",
      "Requirement already satisfied: itsdangerous>=0.24 in /home/ec2-user/anaconda3/lib/python3.7/site-packages (from flask->-r ../requirements.txt (line 1)) (1.1.0)\n",
      "Requirement already satisfied: MarkupSafe>=2.0 in /home/ec2-user/anaconda3/lib/python3.7/site-packages (from Jinja2>=2.10.1->flask->-r ../requirements.txt (line 1)) (2.1.1)\n",
      "Collecting greenlet==2.0.1\n",
      "  Downloading greenlet-2.0.1-cp37-cp37m-manylinux_2_17_x86_64.manylinux2014_x86_64.whl (514 kB)\n",
      "\u001b[K     |████████████████████████████████| 514 kB 59.7 MB/s eta 0:00:01\n",
      "\u001b[?25hRequirement already satisfied: typing-extensions in /home/ec2-user/anaconda3/lib/python3.7/site-packages (from playwright->-r ../requirements.txt (line 2)) (4.1.1)\n",
      "Collecting pyee==9.0.4\n",
      "  Downloading pyee-9.0.4-py2.py3-none-any.whl (14 kB)\n",
      "Installing collected packages: pyee, greenlet, playwright\n",
      "  Attempting uninstall: greenlet\n",
      "    Found existing installation: greenlet 1.0.0\n",
      "    Uninstalling greenlet-1.0.0:\n",
      "      Successfully uninstalled greenlet-1.0.0\n",
      "\u001b[31mERROR: pip's dependency resolver does not currently take into account all the packages that are installed. This behaviour is the source of the following dependency conflicts.\n",
      "gevent 21.1.1 requires greenlet<2.0,>=0.4.17; platform_python_implementation == \"CPython\", but you have greenlet 2.0.1 which is incompatible.\u001b[0m\n",
      "Successfully installed greenlet-2.0.1 playwright-1.28.0 pyee-9.0.4\n",
      "\u001b[33mWARNING: You are using pip version 21.0.1; however, version 22.3.1 is available.\n",
      "You should consider upgrading via the '/home/ec2-user/anaconda3/bin/python -m pip install --upgrade pip' command.\u001b[0m\n"
     ]
    }
   ],
   "source": [
    "!pip install -r ../requirements.txt"
   ]
  },
  {
   "cell_type": "code",
   "execution_count": null,
   "id": "b746f704-ad1b-445d-a778-e50dabed1275",
   "metadata": {},
   "outputs": [],
   "source": [
    "# !playwright install"
   ]
  },
  {
   "cell_type": "code",
   "execution_count": null,
   "id": "02f8dd1b-81a9-48f0-a8be-d0eebbd120b0",
   "metadata": {},
   "outputs": [],
   "source": []
  }
 ],
 "metadata": {
  "kernelspec": {
   "display_name": "Python 3",
   "language": "python",
   "name": "python3"
  }
 },
 "nbformat": 4,
 "nbformat_minor": 5
}
